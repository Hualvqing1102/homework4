{
 "cells": [
  {
   "cell_type": "code",
   "execution_count": 1,
   "metadata": {},
   "outputs": [],
   "source": [
    "import pandas as pd\n",
    "import numpy as np\n",
    "from sklearn.preprocessing import StandardScaler\n",
    "from sklearn.cluster import AgglomerativeClustering, KMeans\n",
    "from sklearn.datasets import load_wine, fetch_california_housing\n",
    "from sklearn.metrics import silhouette_score, homogeneity_score, completeness_score\n"
   ]
  },
  {
   "cell_type": "code",
   "execution_count": 2,
   "metadata": {},
   "outputs": [
    {
     "name": "stdout",
     "output_type": "stream",
     "text": [
      "Problem 1: Auto-mpg Dataset\n",
      "Cluster Means:\n",
      "               mpg  displacement  horsepower       weight  acceleration\n",
      "cluster                                                                \n",
      "0        26.177441    144.304714   86.120275  2598.414141     16.425589\n",
      "1        14.528866    348.020619  161.804124  4143.969072     12.641237\n",
      "2        43.700000     91.750000   49.000000  2133.750000     22.875000\n",
      "\n",
      "Cluster Variances:\n",
      "               mpg  displacement  horsepower         weight  acceleration\n",
      "cluster                                                                  \n",
      "0        41.303375   3511.485383  294.554450  299118.709664      4.875221\n",
      "1         4.771033   2089.499570  674.075816  193847.051117      3.189948\n",
      "2         0.300000     12.250000    4.000000   21672.916667      2.309167\n",
      "\n",
      "Origin Category Means:\n",
      "              mpg  displacement  horsepower       weight  acceleration\n",
      "origin                                                                \n",
      "1       20.083534    245.901606  119.048980  3361.931727     15.033735\n",
      "2       27.891429    109.142857   80.558824  2423.300000     16.787143\n",
      "3       30.450633    102.708861   79.835443  2221.227848     16.172152\n",
      "\n",
      "Origin Category Variances:\n",
      "              mpg  displacement   horsepower         weight  acceleration\n",
      "origin                                                                   \n",
      "1       40.997026   9702.612255  1591.833657  631695.128385      7.568615\n",
      "2       45.211230    509.950311   406.339772  240142.328986      9.276209\n",
      "3       37.088685    535.465433   317.523856  102718.485881      3.821779\n",
      "\n",
      "Cross-tabulation of Origin and Cluster:\n",
      "cluster    0   1  2\n",
      "origin             \n",
      "1        152  97  0\n",
      "2         66   0  4\n",
      "3         79   0  0\n"
     ]
    },
    {
     "name": "stderr",
     "output_type": "stream",
     "text": [
      "C:\\Users\\31326\\AppData\\Local\\Temp\\ipykernel_24352\\3280181434.py:10: SettingWithCopyWarning: \n",
      "A value is trying to be set on a copy of a slice from a DataFrame\n",
      "\n",
      "See the caveats in the documentation: https://pandas.pydata.org/pandas-docs/stable/user_guide/indexing.html#returning-a-view-versus-a-copy\n",
      "  df_cont.fillna(df_cont.mean(), inplace=True)\n"
     ]
    }
   ],
   "source": [
    "url = \"https://archive.ics.uci.edu/ml/machine-learning-databases/auto-mpg/auto-mpg.data\"\n",
    "column_names = ['mpg', 'cylinders', 'displacement', 'horsepower', 'weight',\n",
    "                'acceleration', 'model_year', 'origin', 'car_name']\n",
    "df_auto = pd.read_csv(url, names=column_names, na_values='?', \n",
    "                      comment='\\t', sep=' ', skipinitialspace=True)\n",
    "\n",
    "continuous_features = ['mpg', 'displacement', 'horsepower', 'weight', 'acceleration']\n",
    "df_cont = df_auto[continuous_features]\n",
    "\n",
    "df_cont.fillna(df_cont.mean(), inplace=True)\n",
    "\n",
    "scaler = StandardScaler()\n",
    "X_scaled = scaler.fit_transform(df_cont)\n",
    "\n",
    "agg_clust = AgglomerativeClustering(n_clusters=3, linkage='average')\n",
    "clusters = agg_clust.fit_predict(X_scaled)\n",
    "df_auto['cluster'] = clusters\n",
    "\n",
    "print(\"Problem 1: Auto-mpg Dataset\")\n",
    "print(\"Cluster Means:\")\n",
    "print(df_auto.groupby('cluster')[continuous_features].mean())\n",
    "print(\"\\nCluster Variances:\")\n",
    "print(df_auto.groupby('cluster')[continuous_features].var())\n",
    "\n",
    "print(\"\\nOrigin Category Means:\")\n",
    "print(df_auto.groupby('origin')[continuous_features].mean())\n",
    "print(\"\\nOrigin Category Variances:\")\n",
    "print(df_auto.groupby('origin')[continuous_features].var())\n",
    "\n",
    "cross_tab = pd.crosstab(df_auto['origin'], df_auto['cluster'])\n",
    "print(\"\\nCross-tabulation of Origin and Cluster:\")\n",
    "print(cross_tab)"
   ]
  },
  {
   "cell_type": "code",
   "execution_count": 3,
   "metadata": {},
   "outputs": [
    {
     "name": "stdout",
     "output_type": "stream",
     "text": [
      "k=2, Silhouette Score = 0.3482\n",
      "k=3, Silhouette Score = 0.2389\n",
      "k=4, Silhouette Score = 0.2154\n",
      "k=5, Silhouette Score = 0.2213\n",
      "k=6, Silhouette Score = 0.2645\n",
      "\n",
      "Optimal number of clusters: 2\n",
      "\n",
      "Mean feature values for each cluster:\n",
      "         Unnamed: 0       crim         zn      indus      chas       nox  \\\n",
      "cluster                                                                    \n",
      "0        192.703593   0.288011  17.215569   7.170659  0.068862  0.488754   \n",
      "1        371.558140  10.071205   0.000000  18.838430  0.069767  0.682744   \n",
      "\n",
      "               rm        age       dis       rad         tax    ptratio  \\\n",
      "cluster                                                                   \n",
      "0        6.451398  57.000299  4.717151   4.45509  302.215569  17.789820   \n",
      "1        5.960802  91.051163  2.004438  19.44186  614.116279  19.748256   \n",
      "\n",
      "                  b      lstat       medv  \n",
      "cluster                                    \n",
      "0        384.764760   9.502545  25.697305  \n",
      "1        302.125756  18.770930  16.387791  \n",
      "\n",
      "KMeans cluster center coordinates:\n",
      "   Unnamed: 0      crim        zn     indus      chas       nox        rm  \\\n",
      "0   -0.416216 -0.387001  0.251162 -0.578694 -0.001213 -0.569624  0.237582   \n",
      "1    0.808234  0.751501 -0.487722  1.123743  0.002355  1.106131 -0.461350   \n",
      "\n",
      "        age       dis       rad       tax   ptratio         b     lstat  \\\n",
      "0 -0.411599  0.438342 -0.585645 -0.629692 -0.307801  0.307997 -0.441620   \n",
      "1  0.799269 -0.851198  1.137240  1.222774  0.597706 -0.598087  0.857565   \n",
      "\n",
      "       medv  \n",
      "0  0.344416  \n",
      "1 -0.668808  \n"
     ]
    }
   ],
   "source": [
    "\n",
    "df_boston = pd.read_csv(\"boston.csv\")\n",
    "\n",
    "features = df_boston.drop(columns=['MEDV']) if 'MEDV' in df_boston.columns else df_boston\n",
    "scaler = StandardScaler()\n",
    "X_scaled = scaler.fit_transform(features)\n",
    "\n",
    "sil_scores = []\n",
    "for k in range(2, 7):\n",
    "    kmeans = KMeans(n_clusters=k, random_state=42)\n",
    "    labels = kmeans.fit_predict(X_scaled)\n",
    "    score = silhouette_score(X_scaled, labels)\n",
    "    sil_scores.append(score)\n",
    "    print(f\"k={k}, Silhouette Score = {score:.4f}\")\n",
    "\n",
    "best_k = np.argmax(sil_scores) + 2\n",
    "print(f\"\\nOptimal number of clusters: {best_k}\")\n",
    "\n",
    "kmeans_opt = KMeans(n_clusters=best_k, random_state=42)\n",
    "labels_opt = kmeans_opt.fit_predict(X_scaled)\n",
    "features['cluster'] = labels_opt\n",
    "\n",
    "print(\"\\nMean feature values for each cluster:\")\n",
    "print(features.groupby('cluster').mean())\n",
    "\n",
    "print(\"\\nKMeans cluster center coordinates:\")\n",
    "print(pd.DataFrame(kmeans_opt.cluster_centers_, columns=features.columns[:-1]))"
   ]
  },
  {
   "cell_type": "code",
   "execution_count": 4,
   "metadata": {},
   "outputs": [
    {
     "name": "stdout",
     "output_type": "stream",
     "text": [
      "\n",
      "Problem 3: Wine Dataset - Homogeneity = 0.8788, Completeness = 0.8730\n",
      "\n",
      "Metric Explanation:\n",
      "- Homogeneity indicates that each cluster contains only samples from the same class. The higher, the better.\n",
      "- Completeness indicates the degree to which all samples of the same class are assigned to the same cluster. The higher, the better.\n"
     ]
    }
   ],
   "source": [
    "wine = load_wine()\n",
    "df_wine = pd.DataFrame(wine.data, columns=wine.feature_names)\n",
    "X_wine = StandardScaler().fit_transform(df_wine)\n",
    "\n",
    "kmeans_wine = KMeans(n_clusters=3, random_state=42)\n",
    "wine_labels = kmeans_wine.fit_predict(X_wine)\n",
    "\n",
    "true_labels = wine.target\n",
    "homogeneity = homogeneity_score(true_labels, wine_labels)\n",
    "completeness = completeness_score(true_labels, wine_labels)\n",
    "\n",
    "print(f\"\\nProblem 3: Wine Dataset - Homogeneity = {homogeneity:.4f}, Completeness = {completeness:.4f}\")\n",
    "\n",
    "print(\"\\nMetric Explanation:\")\n",
    "print(\"- Homogeneity indicates that each cluster contains only samples from the same class. The higher, the better.\")\n",
    "print(\"- Completeness indicates the degree to which all samples of the same class are assigned to the same cluster. The higher, the better.\")"
   ]
  },
  {
   "cell_type": "code",
   "execution_count": null,
   "metadata": {},
   "outputs": [],
   "source": []
  },
  {
   "cell_type": "code",
   "execution_count": null,
   "metadata": {},
   "outputs": [],
   "source": []
  }
 ],
 "metadata": {
  "kernelspec": {
   "display_name": "Python 3 (ipykernel)",
   "language": "python",
   "name": "python3"
  },
  "language_info": {
   "codemirror_mode": {
    "name": "ipython",
    "version": 3
   },
   "file_extension": ".py",
   "mimetype": "text/x-python",
   "name": "python",
   "nbconvert_exporter": "python",
   "pygments_lexer": "ipython3",
   "version": "3.12.3"
  }
 },
 "nbformat": 4,
 "nbformat_minor": 4
}
